{
  "nbformat": 4,
  "nbformat_minor": 0,
  "metadata": {
    "colab": {
      "name": "carina_assignment4.ipynb",
      "provenance": [],
      "collapsed_sections": [],
      "toc_visible": true,
      "include_colab_link": true
    },
    "kernelspec": {
      "name": "python3",
      "display_name": "Python 3"
    }
  },
  "cells": [
    {
      "cell_type": "markdown",
      "metadata": {
        "id": "view-in-github",
        "colab_type": "text"
      },
      "source": [
        "<a href=\"https://colab.research.google.com/github/Poolbar/my_processing/blob/master/carina_assignment4.ipynb\" target=\"_parent\"><img src=\"https://colab.research.google.com/assets/colab-badge.svg\" alt=\"Open In Colab\"/></a>"
      ]
    },
    {
      "cell_type": "markdown",
      "metadata": {
        "id": "e96GWreiKGeT",
        "colab_type": "text"
      },
      "source": [
        "#**Assigment 4: Create a Visualization**\n",
        "\n",
        "My visualization shows the CO2 emissions in germany defined by energy source and federal state from the year 2017. The data set is from the **Länderarbeitskreis Energiebilanzen** \n",
        "(https://www.lak-energiebilanzen.de/eingabe-statisch/?a=c100)"
      ]
    },
    {
      "cell_type": "code",
      "metadata": {
        "id": "lNaMJYByKFwI",
        "colab_type": "code",
        "colab": {}
      },
      "source": [
        "# import packages\n",
        "# pandas for data analysis\n",
        "# altair for data visualization\n",
        "import pandas as pd\n",
        "import altair as alt"
      ],
      "execution_count": 0,
      "outputs": []
    },
    {
      "cell_type": "markdown",
      "metadata": {
        "id": "33IAOjDa3Alz",
        "colab_type": "text"
      },
      "source": [
        "The dataset is a .csv file I stored locally. Before uploading, I had to prepare the file (without cleaning, I got an error because the .csv was not readable).\n",
        "\n",
        "With the read_csv() method I parse the unstructured contents of my data set into the structured form of a DataFrame."
      ]
    },
    {
      "cell_type": "code",
      "metadata": {
        "id": "Kn-1okMH4S2p",
        "colab_type": "code",
        "colab": {}
      },
      "source": [
        "file = open(\"/content/lak-download.csv\")\n",
        "emission = file.read()\n",
        "file.close()\n",
        "\n",
        "emission = pd.read_csv(\n",
        "  \"/content/lak-download.csv\",\n",
        "  sep=\";\")\n",
        "\n",
        "emission"
      ],
      "execution_count": 0,
      "outputs": []
    },
    {
      "cell_type": "markdown",
      "metadata": {
        "id": "Hee1OD_q5WR1",
        "colab_type": "text"
      },
      "source": [
        "Now I can start to examine my data. "
      ]
    },
    {
      "cell_type": "code",
      "metadata": {
        "id": "aF7nqGtr5crQ",
        "colab_type": "code",
        "colab": {}
      },
      "source": [
        "#I tried different methods to examine the data\n",
        "emission.head()\n",
        "#emission.describe()\n",
        "emission.info()"
      ],
      "execution_count": 0,
      "outputs": []
    },
    {
      "cell_type": "markdown",
      "metadata": {
        "id": "r_fR3U5052KR",
        "colab_type": "text"
      },
      "source": [
        "There are different columns in the data set. I can choose which columns I want to use and I rename the labels. "
      ]
    },
    {
      "cell_type": "code",
      "metadata": {
        "id": "GNb9ISiQ6wUr",
        "colab_type": "code",
        "colab": {}
      },
      "source": [
        "#rename labels\n",
        "emission = emission.rename(columns={\"Mineralöle und Mineralöl produkte\": \"Mineralöle\"})\n",
        "emission = emission.rename(columns={\"Land\": \"Bundesland\"})"
      ],
      "execution_count": 0,
      "outputs": []
    },
    {
      "cell_type": "code",
      "metadata": {
        "id": "dGIoETqg6DPg",
        "colab_type": "code",
        "colab": {}
      },
      "source": [
        "#columns\n",
        "emission[[\"Bundesland\", \"Insgesamt (in 1000t)\"]]"
      ],
      "execution_count": 0,
      "outputs": []
    },
    {
      "cell_type": "markdown",
      "metadata": {
        "id": "fQnYDje7Fz5E",
        "colab_type": "text"
      },
      "source": [
        "Here comes the visualization:"
      ]
    },
    {
      "cell_type": "code",
      "metadata": {
        "id": "alz5zGqt62jQ",
        "colab_type": "code",
        "colab": {}
      },
      "source": [
        "# noch nicht fertig\n",
        "# create a simple scatterplot with two dimensions for x and y\n",
        "alt.Chart(emission).mark_bar().encode(\n",
        "x = 'Bundesland',\n",
        "y = 'Insgesamt (in 1000t)',\n",
        "# add tooltip = schwebende Legende :)\n",
        "    tooltip=['Bundesland','Insgesamt (in 1000t)','Steinkohle','Braunkohle', \n",
        "             'Mineralöle','Gase','Abfälle (nicht biogen)','Andere Energieträger'] \n",
        ").interactive() # this makes the axes interactive: now you can zoom & pan"
      ],
      "execution_count": 0,
      "outputs": []
    }
  ]
}